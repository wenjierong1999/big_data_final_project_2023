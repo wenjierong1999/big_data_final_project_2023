{
 "cells": [
  {
   "cell_type": "code",
   "execution_count": 3,
   "metadata": {
    "collapsed": true
   },
   "outputs": [
    {
     "data": {
      "text/plain": "(152388, 7)"
     },
     "execution_count": 3,
     "metadata": {},
     "output_type": "execute_result"
    }
   ],
   "source": [
    "import pandas as pd\n",
    "label_df = pd.read_csv('D:/big_data_final_projedt_2023/assignment2/images_cuisines_price.csv',encoding='ISO-8859-1')\n",
    "label_df.shape\n",
    "\n"
   ]
  },
  {
   "cell_type": "code",
   "execution_count": 5,
   "outputs": [
    {
     "data": {
      "text/plain": "   image_id                                          image_url  \\\n0   2088757  https://axwwgrkdco.cloudimg.io/v7/__gmpics__/8...   \n1   2182000  https://axwwgrkdco.cloudimg.io/v7/__gmpics__/7...   \n2   4151606  https://axwwgrkdco.cloudimg.io/v7/__gmpics__/b...   \n3   4151588  https://axwwgrkdco.cloudimg.io/v7/__gmpics__/9...   \n4   2224983  https://axwwgrkdco.cloudimg.io/v7/__gmpics__/2...   \n\n  restaurant_name_x  objectID cuisine_category   label_fromprice  \\\n0         Strofilia     78848            greek  A moderate spend   \n1         Strofilia     78848            greek  A moderate spend   \n2         Strofilia     78848            greek  A moderate spend   \n3         Strofilia     78848            greek  A moderate spend   \n4         Strofilia     78848            greek  A moderate spend   \n\n  expensiveness_category  \n0              mid-range  \n1              mid-range  \n2              mid-range  \n3              mid-range  \n4              mid-range  ",
      "text/html": "<div>\n<style scoped>\n    .dataframe tbody tr th:only-of-type {\n        vertical-align: middle;\n    }\n\n    .dataframe tbody tr th {\n        vertical-align: top;\n    }\n\n    .dataframe thead th {\n        text-align: right;\n    }\n</style>\n<table border=\"1\" class=\"dataframe\">\n  <thead>\n    <tr style=\"text-align: right;\">\n      <th></th>\n      <th>image_id</th>\n      <th>image_url</th>\n      <th>restaurant_name_x</th>\n      <th>objectID</th>\n      <th>cuisine_category</th>\n      <th>label_fromprice</th>\n      <th>expensiveness_category</th>\n    </tr>\n  </thead>\n  <tbody>\n    <tr>\n      <th>0</th>\n      <td>2088757</td>\n      <td>https://axwwgrkdco.cloudimg.io/v7/__gmpics__/8...</td>\n      <td>Strofilia</td>\n      <td>78848</td>\n      <td>greek</td>\n      <td>A moderate spend</td>\n      <td>mid-range</td>\n    </tr>\n    <tr>\n      <th>1</th>\n      <td>2182000</td>\n      <td>https://axwwgrkdco.cloudimg.io/v7/__gmpics__/7...</td>\n      <td>Strofilia</td>\n      <td>78848</td>\n      <td>greek</td>\n      <td>A moderate spend</td>\n      <td>mid-range</td>\n    </tr>\n    <tr>\n      <th>2</th>\n      <td>4151606</td>\n      <td>https://axwwgrkdco.cloudimg.io/v7/__gmpics__/b...</td>\n      <td>Strofilia</td>\n      <td>78848</td>\n      <td>greek</td>\n      <td>A moderate spend</td>\n      <td>mid-range</td>\n    </tr>\n    <tr>\n      <th>3</th>\n      <td>4151588</td>\n      <td>https://axwwgrkdco.cloudimg.io/v7/__gmpics__/9...</td>\n      <td>Strofilia</td>\n      <td>78848</td>\n      <td>greek</td>\n      <td>A moderate spend</td>\n      <td>mid-range</td>\n    </tr>\n    <tr>\n      <th>4</th>\n      <td>2224983</td>\n      <td>https://axwwgrkdco.cloudimg.io/v7/__gmpics__/2...</td>\n      <td>Strofilia</td>\n      <td>78848</td>\n      <td>greek</td>\n      <td>A moderate spend</td>\n      <td>mid-range</td>\n    </tr>\n  </tbody>\n</table>\n</div>"
     },
     "execution_count": 5,
     "metadata": {},
     "output_type": "execute_result"
    }
   ],
   "source": [
    "label_df.head()"
   ],
   "metadata": {
    "collapsed": false
   }
  },
  {
   "cell_type": "code",
   "execution_count": 9,
   "outputs": [
    {
     "data": {
      "text/plain": "image_id                                                            2088757\nimage_url                 https://axwwgrkdco.cloudimg.io/v7/__gmpics__/8...\nrestaurant_name_x                                                 Strofilia\nobjectID                                                              78848\ncuisine_category                                                      greek\nlabel_fromprice                                            A moderate spend\nexpensiveness_category                                            mid-range\nName: 0, dtype: object"
     },
     "execution_count": 9,
     "metadata": {},
     "output_type": "execute_result"
    }
   ],
   "source": [
    "label_df.iloc[0]"
   ],
   "metadata": {
    "collapsed": false
   }
  },
  {
   "cell_type": "code",
   "execution_count": null,
   "outputs": [],
   "source": [
    "expensiveness_df = label_df[['image_id','expensiveness_category']]\n",
    "expensiveness_df[expensiveness_df.duplicated(keep=False)]"
   ],
   "metadata": {
    "collapsed": false
   }
  },
  {
   "cell_type": "markdown",
   "source": [
    "Duplicates exist ,so we need to drop them from label dataset for the expensiveness of restaurants"
   ],
   "metadata": {
    "collapsed": false
   }
  },
  {
   "cell_type": "markdown",
   "source": [],
   "metadata": {
    "collapsed": false
   }
  },
  {
   "cell_type": "code",
   "execution_count": 7,
   "outputs": [],
   "source": [
    "expensiveness_df = expensiveness_df.drop_duplicates(keep='first')\n",
    "expensiveness_df.to_csv('D:/big_data_final_projedt_2023/assignment2/expensiveness_unduplicated.csv')"
   ],
   "metadata": {
    "collapsed": false
   }
  },
  {
   "cell_type": "code",
   "execution_count": 9,
   "outputs": [
    {
     "data": {
      "text/plain": "mid-range     48689\npremium       36754\nluxury        21768\naffordable     8450\nName: expensiveness_category, dtype: int64"
     },
     "execution_count": 9,
     "metadata": {},
     "output_type": "execute_result"
    }
   ],
   "source": [
    "expensiveness_df['expensiveness_category'].value_counts()"
   ],
   "metadata": {
    "collapsed": false
   }
  },
  {
   "cell_type": "code",
   "execution_count": 16,
   "outputs": [
    {
     "data": {
      "text/plain": "   image_id expensiveness_category\n0   2088757              mid-range\n1   2182000              mid-range\n2   4151606              mid-range\n3   4151588              mid-range\n4   2224983              mid-range",
      "text/html": "<div>\n<style scoped>\n    .dataframe tbody tr th:only-of-type {\n        vertical-align: middle;\n    }\n\n    .dataframe tbody tr th {\n        vertical-align: top;\n    }\n\n    .dataframe thead th {\n        text-align: right;\n    }\n</style>\n<table border=\"1\" class=\"dataframe\">\n  <thead>\n    <tr style=\"text-align: right;\">\n      <th></th>\n      <th>image_id</th>\n      <th>expensiveness_category</th>\n    </tr>\n  </thead>\n  <tbody>\n    <tr>\n      <th>0</th>\n      <td>2088757</td>\n      <td>mid-range</td>\n    </tr>\n    <tr>\n      <th>1</th>\n      <td>2182000</td>\n      <td>mid-range</td>\n    </tr>\n    <tr>\n      <th>2</th>\n      <td>4151606</td>\n      <td>mid-range</td>\n    </tr>\n    <tr>\n      <th>3</th>\n      <td>4151588</td>\n      <td>mid-range</td>\n    </tr>\n    <tr>\n      <th>4</th>\n      <td>2224983</td>\n      <td>mid-range</td>\n    </tr>\n  </tbody>\n</table>\n</div>"
     },
     "execution_count": 16,
     "metadata": {},
     "output_type": "execute_result"
    }
   ],
   "source": [
    "expensiveness_df.head()"
   ],
   "metadata": {
    "collapsed": false
   }
  },
  {
   "cell_type": "code",
   "execution_count": 14,
   "outputs": [
    {
     "data": {
      "text/plain": "['1000495',\n '1001236',\n '1002344',\n '1005450',\n '1006260',\n '1007023',\n '1007222',\n '1008385',\n '1009442',\n '1009655',\n '1009913',\n '1011895',\n '1012405',\n '1012761',\n '1012835',\n '1013600',\n '1015111',\n '1015260',\n '1015837',\n '1016042',\n '1016185',\n '1018115',\n '1018391',\n '1018897',\n '1019033',\n '1024295',\n '1028120',\n '1031773',\n '1033898',\n '1036281',\n '1037960',\n '1041359',\n '1041714',\n '1042302',\n '1042667',\n '1043927',\n '1046424',\n '1048787',\n '1049155',\n '1058211',\n '1060704',\n '1072115',\n '1073059',\n '1074299',\n '1075320',\n '1075427',\n '1080597',\n '1090959',\n '1092866',\n '1100669',\n '1101020',\n '1107075',\n '1107988',\n '1111616',\n '1120910',\n '1122588',\n '1122661',\n '1131102',\n '1137978',\n '1142536',\n '1143590',\n '1143942',\n '1150063',\n '1150273',\n '1151243',\n '1152238',\n '1152741',\n '1153237',\n '1153632',\n '1154034',\n '1155062',\n '1157337',\n '1158341',\n '1163167',\n '1164829',\n '1168242',\n '1168734',\n '1169370',\n '1169374',\n '1171345',\n '1174629',\n '1175750',\n '1179039',\n '1182647',\n '1182868',\n '1183070',\n '1183351',\n '1184471',\n '1189644',\n '1190495',\n '1191145',\n '1191289',\n '1192755',\n '1195415',\n '1195915',\n '1196490',\n '1197215',\n '1197648',\n '1197721',\n '1198780',\n '1199239',\n '1199879',\n '1201901',\n '1203677',\n '1205231',\n '1208019',\n '1210412',\n '1212076',\n '1212986',\n '1216476',\n '1216551',\n '1217679',\n '1218233',\n '1218423',\n '1219041',\n '1219504',\n '1220385',\n '1220509',\n '1221582',\n '1224288',\n '1224754',\n '1224966',\n '1226518',\n '1230059',\n '1230203',\n '1231637',\n '1233750',\n '1236357',\n '1241737',\n '1242377',\n '1249060',\n '1254820',\n '1258690',\n '1259596',\n '1260447',\n '1261017',\n '1261848',\n '1262700',\n '1267842',\n '1269312',\n '1270065',\n '1271379',\n '1275177',\n '1276554',\n '1277326',\n '1277892',\n '1278592',\n '1279104',\n '1280622',\n '1280784',\n '1281077',\n '1281612',\n '1285145',\n '1286803',\n '1303365',\n '1304578',\n '1309449',\n '1310637',\n '1310758',\n '1311077',\n '1311278',\n '1319923',\n '1321722',\n '1322716',\n '1325114',\n '1326047',\n '1328004',\n '1329958',\n '1331341',\n '1332890',\n '1338800',\n '1340946',\n '1343006',\n '1344036',\n '1347032',\n '1351241',\n '1351395',\n '1356492',\n '1356708',\n '1361243',\n '1362338',\n '1362472',\n '1362554',\n '1363459',\n '1365802',\n '1367450',\n '1368940',\n '1369087',\n '1371721',\n '1373359',\n '1373421',\n '1374375',\n '1374792',\n '1375515',\n '1377476',\n '1379350',\n '1384612',\n '1386471',\n '1387247',\n '1393199',\n '1395462',\n '1396864',\n '1402571',\n '1403079',\n '1403261',\n '1403793',\n '1408490',\n '1409464',\n '1410602',\n '1410903',\n '1415574',\n '1417213',\n '1418600',\n '1421195',\n '1421870',\n '1422236',\n '1422605',\n '1424473',\n '1825462',\n '1825810',\n '1826262',\n '1827612',\n '1831802',\n '1833046',\n '1869942',\n '1874280',\n '1874286',\n '1878186',\n '1878923',\n '1879214',\n '1879575',\n '1887743',\n '1887942',\n '1888473',\n '1890068',\n '1893357',\n '1895161',\n '1895284',\n '1908148',\n '1909065',\n '1909908',\n '1911837',\n '1914394',\n '1917174',\n '1918928',\n '1919383',\n '1920478',\n '1924087',\n '1934005',\n '1934141',\n '1939075',\n '1945146',\n '1947364',\n '1949632',\n '1950439',\n '1950948',\n '1956738',\n '1956805',\n '1985041',\n '1985902',\n '1987636',\n '1988394',\n '1989944',\n '1990631',\n '1995598',\n '2002348',\n '2003006',\n '2005569',\n '2006918',\n '2009334',\n '2010842',\n '2011165',\n '2011299',\n '2014543',\n '2016696',\n '2021188',\n '2022675',\n '2029188',\n '2029927',\n '2030471',\n '2031198',\n '2031694',\n '2032430',\n '2033573',\n '2034286',\n '2038744',\n '2042376',\n '2043145',\n '2045818',\n '2047557',\n '2056833',\n '2057289',\n '2057394',\n '2061355',\n '2067279',\n '2069182',\n '2069407',\n '2070473',\n '2071091',\n '2071095',\n '2071337',\n '2071545',\n '2072250',\n '2073114',\n '2073554',\n '2074617',\n '2074618',\n '2075395',\n '2091543',\n '2100401',\n '2104340',\n '2114566',\n '2115045',\n '2122331',\n '2123438',\n '2123517',\n '2125764',\n '2126343',\n '2127104',\n '2129461',\n '2134083',\n '2136606',\n '2138422',\n '2141167',\n '214162',\n '2142137',\n '2146406',\n '2148602',\n '215568',\n '2157279',\n '215958',\n '2162077',\n '216231',\n '2166240',\n '2167544',\n '2170363',\n '2176958',\n '2177102',\n '2178419',\n '2179024',\n '2179662',\n '2179932',\n '2180166',\n '2183255',\n '2183362',\n '2183707',\n '2189471',\n '2191296',\n '2197200',\n '2200278',\n '2203900',\n '2206409',\n '2207078',\n '2207523',\n '2216756',\n '2217125',\n '2219032',\n '2225438',\n '2226004',\n '2227163',\n '2227946',\n '2229171',\n '2234137',\n '2236898',\n '2237152',\n '2237392',\n '2239677',\n '2244979',\n '2245118',\n '2247703',\n '2249372',\n '2251761',\n '2257304',\n '2257470',\n '2260291',\n '2260379',\n '2264924',\n '2266632',\n '2269312',\n '2269566',\n '2274500',\n '2276198',\n '2277376',\n '2280879',\n '2286700',\n '2289415',\n '2290032',\n '2291765',\n '2292172',\n '2294566',\n '2296185',\n '2296532',\n '2297417',\n '232386',\n '232470',\n '233433',\n '234423',\n '234452',\n '242124',\n '243189',\n '243492',\n '251193',\n '253265',\n '254174',\n '257621',\n '258702',\n '261012',\n '2645284',\n '2645876',\n '2646227',\n '2684385',\n '2685919',\n '2688204',\n '2689596',\n '2690281',\n '2690856',\n '2695974',\n '2696617',\n '2697427',\n '2700867',\n '2701022',\n '2701082',\n '283738',\n '284127',\n '285986',\n '286171',\n '287389',\n '291081',\n '291559',\n '291700',\n '291774',\n '292787',\n '293265',\n '295956',\n '296100',\n '296301',\n '297613',\n '301715',\n '302059',\n '309685',\n '3113623',\n '3113726',\n '3149514',\n '3159170',\n '3160894',\n '3165404',\n '3167544',\n '3169517',\n '334274',\n '335393',\n '337004',\n '348694',\n '349992',\n '350563',\n '351600',\n '352656',\n '353894',\n '354574',\n '355147',\n '357995',\n '359504',\n '361203',\n '361355',\n '3621856',\n '364477',\n '367786',\n '373632',\n '374009',\n '376642',\n '3832923',\n '3833538',\n '3833622',\n '3925632',\n '3934141',\n '3962568',\n '3963197',\n '3963282',\n '3983226',\n '3984236',\n '3984303',\n '4035105',\n '4052161',\n '4052760',\n '4056333',\n '4070050',\n '4076131',\n '4076167',\n '4081156',\n '4082364',\n '4083173',\n '4086383',\n '4092451',\n '4093072',\n '4099920',\n '4103055',\n '410841',\n '4111497',\n '4115058',\n '412431',\n '415001',\n '4153239',\n '4153590',\n '4156532',\n '4159856',\n '4162138',\n '416384',\n '4164115',\n '4165113',\n '4165889',\n '4166132',\n '416966',\n '4176900',\n '4181346',\n '4182481',\n '418860',\n '419083',\n '4192020',\n '419440',\n '4195273',\n '4196672',\n '419884',\n '420276',\n '4205327',\n '4207803',\n '4209540',\n '4211705',\n '4215312',\n '4215441',\n '4231267',\n '4239587',\n '425885',\n '4259818',\n '426167',\n '427767',\n '4291523',\n '4334861',\n '439408',\n '4405631',\n '443514',\n '443756',\n '445268',\n '4461992',\n '4462050',\n '4463500',\n '4465013',\n '4465160',\n '4466048',\n '4473080',\n '4474675',\n '4480049',\n '448439',\n '449201',\n '4503708',\n '4509423',\n '4511504',\n '4512912',\n '4514924',\n '4516599',\n '4519285',\n '4519850',\n '452000',\n '4520310',\n '4531743',\n '4533274',\n '453413',\n '4535558',\n '4537634',\n '4544980',\n '4545004',\n '4550820',\n '4550904',\n '455852',\n '4559069',\n '4565201',\n '4565266',\n '4568507',\n '4568689',\n '4569692',\n '4573775',\n '4583661',\n '4586128',\n '4587477',\n '4590147',\n '4590334',\n '4591650',\n '4591942',\n '4595317',\n '4596939',\n '4602801',\n '4602810',\n '4604630',\n '460886',\n '4611298',\n '4612288',\n '4614397',\n '4615298',\n '4617645',\n '4620690',\n '4625171',\n '4625470',\n '4627097',\n '4632375',\n '4632734',\n '4633426',\n '463378',\n '4643081',\n '4646433',\n '4648260',\n '4648300',\n '4649085',\n '464938',\n '4652889',\n '465398',\n '4654796',\n '4657635',\n '4659332',\n '4660330',\n '466069',\n '4661665',\n '4662099',\n '4662358',\n '4662391',\n '4664417',\n '4669607',\n '4672279',\n '467420',\n '467758',\n '4680604',\n '4680901',\n '4689708',\n '469920',\n '4705428',\n '4706670',\n '4708138',\n '470833',\n '470981',\n '4710121',\n '4712284',\n '473973',\n '4749290',\n '4749912',\n '4750786',\n '4756957',\n '4757342',\n '4760811',\n '4764096',\n '4768526',\n '4773141',\n '4776998',\n '4778335',\n '4784354',\n '478708',\n '4791411',\n '479169',\n '4794781',\n '4796197',\n '4803024',\n '4806701',\n '4807469',\n '4809193',\n '4810497',\n '4810684',\n '4811922',\n '4813509',\n '4814070',\n '4815482',\n '4819434',\n '482081',\n '4821032',\n '4821458',\n '4821793',\n '482693',\n '4827807',\n '4828024',\n '4828058',\n '4832049',\n '4838437',\n '4840132',\n '4840216',\n '484362',\n '4846193',\n '484789',\n '4850823',\n '4851419',\n '4852938',\n '4854187',\n '4857206',\n '4863332',\n '4867621',\n '4870780',\n '4871863',\n '4875609',\n '4875679',\n '4877100',\n '488191',\n '4884784',\n '4900099',\n '4900307',\n '4900402',\n '4908199',\n '4908679',\n '4910140',\n '4917993',\n '4925598',\n '4932749',\n '493292',\n '493654',\n '493858',\n '4958150',\n '496196',\n '496341',\n '4965412',\n '497071',\n '4972004',\n '4974790',\n '4977329',\n '4979636',\n '4983195',\n '4983491',\n '498692',\n '498758',\n '499545',\n '4996585',\n '4996732',\n '499847',\n '4999718',\n '5004994',\n '5007206',\n '5007783',\n '501098',\n '5012451',\n '5012920',\n '5014429',\n '501463',\n '5018052',\n '5021399',\n '5021638',\n '502416',\n '5026048',\n '5028814',\n '5030269',\n '5031569',\n '5031878',\n '5034359',\n '5041405',\n '5041622',\n '5042723',\n '504818',\n '5061756',\n '5064311',\n '5065041',\n '5066706',\n '5066752',\n '5067909',\n '5074135',\n '507419',\n '5076663',\n '508736',\n '509939',\n '511300',\n '5117115',\n '5119263',\n '5126700',\n '5129502',\n '5134999',\n '5136774',\n '5139784',\n '5140292',\n '5145535',\n '5150092',\n '5156392',\n '5157206',\n '5157248',\n '5158360',\n '5159134',\n '5160010',\n '5162916',\n '5163455',\n '5165688',\n '5174374',\n '5190045',\n '5194316',\n '5288080',\n '5288823',\n '5290599',\n '5294303',\n '5294651',\n '5299152',\n '5300230',\n '5303193',\n '5303466',\n '5303948',\n '5307472',\n '5307493',\n '5307827',\n '5313391',\n '5315138',\n '5319859',\n '5321901',\n '5322037',\n '5324381',\n '5329505',\n '5329564',\n '5333103',\n '5333776',\n '5342089',\n '5345711',\n '5345908',\n '5346026',\n '5347718',\n '5348976',\n '5349460',\n '5349829',\n '5350160',\n '5350424',\n '5350459',\n '5350693',\n '5351482',\n '5355271',\n '5359886',\n '5360342',\n '5369985',\n '5370144',\n '5376321',\n '5378127',\n '5380889',\n '5388323',\n '5395470',\n '5396539',\n '5401520',\n '5402020',\n '5402275',\n '5403180',\n '5405987',\n '5407871',\n '5409255',\n '5409572',\n '5410531',\n '5414102',\n '5414111',\n '5418511',\n '5423531',\n '5427246',\n '5433885',\n '5443536',\n '5448624',\n '5449255',\n '5457123',\n '5457581',\n '5465766',\n '5469096',\n '5471022',\n '5472050',\n '5472329',\n '5475790',\n '5476420',\n '5476490',\n '5480111',\n '5490632',\n '5494990',\n '5495064',\n '5509547',\n '5522027',\n '5524772',\n '5525870',\n '5536151',\n '5548969',\n '5556677',\n '5558673',\n '5560372',\n '5561533',\n '5566712',\n '5578001',\n '5585843',\n '5587244',\n '5591259',\n '5593006',\n '5595864',\n '5598029',\n '5607764',\n '5612835',\n '5613393',\n '5614521',\n '5615675',\n '5621775',\n '5624139',\n '5635012',\n '5635266',\n '5638749',\n '648715',\n '648748',\n '648793',\n '649052',\n '649886',\n '650163',\n '650651',\n '652198',\n '653254',\n '656460',\n '658762',\n '659572',\n '660524',\n '661674',\n '662202',\n '662336',\n '664079',\n '664861',\n '666373',\n '668672',\n '669396',\n '670802',\n '671367',\n '672167',\n '675511',\n '675515',\n '677125',\n '678975',\n '679840',\n '680131',\n '687656',\n '688916',\n '689026',\n '689183',\n '693270',\n '693764',\n '695176',\n '697027',\n '699509',\n '700352',\n '701028',\n '701825',\n '702714',\n '704404',\n '706646',\n '712740',\n '714499',\n '716256',\n '717826',\n '718484',\n '730863',\n '732390',\n '733312',\n '734583',\n '737349',\n '742843',\n '743647',\n '745189',\n '748383',\n '750041',\n '750956',\n '754591',\n '754819',\n '755350',\n '756410',\n '756633',\n '756634',\n '757983',\n '760260',\n '760679',\n '761980',\n '764147',\n '765805',\n '766166',\n '766247',\n '766607',\n '766669',\n '771282',\n '775178',\n '779375',\n '781484',\n '781869',\n '783034',\n '783110',\n '783459',\n '784471',\n '784923',\n '785142',\n '790952',\n '791029',\n '792125',\n '798131',\n '799182',\n '801509',\n '802773',\n '804079',\n '805207',\n '805942',\n '806399',\n '809095',\n '811340',\n '811993',\n '812138',\n '812288',\n '812944',\n '813443',\n '814202',\n '950584',\n '999236',\n '999300',\n '999361']"
     },
     "execution_count": 14,
     "metadata": {},
     "output_type": "execute_result"
    }
   ],
   "source": [
    "import os\n",
    "import shutil\n",
    "toy_dataset = 'D:/big_data_final_projedt_2023/assignment2/samllsize_images'\n",
    "image_list = os.listdir(toy_dataset)\n",
    "image_list = [img.rstrip('.jpg') for img in image_list ]\n",
    "image_list"
   ],
   "metadata": {
    "collapsed": false
   }
  },
  {
   "cell_type": "code",
   "execution_count": 19,
   "outputs": [],
   "source": [
    "toy_label = pd.DataFrame({'image_id':image_list})\n",
    "toy_label['image_id'] = toy_label['image_id'].astype('int64')"
   ],
   "metadata": {
    "collapsed": false
   }
  },
  {
   "cell_type": "code",
   "execution_count": 20,
   "outputs": [
    {
     "data": {
      "text/plain": "     image_id expensiveness_category\n0     1000495              mid-range\n1     1001236              mid-range\n2     1002344                 luxury\n3     1005450                premium\n4     1006260              mid-range\n..        ...                    ...\n995    814202                premium\n996    950584                premium\n997    999236             affordable\n998    999300                 luxury\n999    999361                premium\n\n[1000 rows x 2 columns]",
      "text/html": "<div>\n<style scoped>\n    .dataframe tbody tr th:only-of-type {\n        vertical-align: middle;\n    }\n\n    .dataframe tbody tr th {\n        vertical-align: top;\n    }\n\n    .dataframe thead th {\n        text-align: right;\n    }\n</style>\n<table border=\"1\" class=\"dataframe\">\n  <thead>\n    <tr style=\"text-align: right;\">\n      <th></th>\n      <th>image_id</th>\n      <th>expensiveness_category</th>\n    </tr>\n  </thead>\n  <tbody>\n    <tr>\n      <th>0</th>\n      <td>1000495</td>\n      <td>mid-range</td>\n    </tr>\n    <tr>\n      <th>1</th>\n      <td>1001236</td>\n      <td>mid-range</td>\n    </tr>\n    <tr>\n      <th>2</th>\n      <td>1002344</td>\n      <td>luxury</td>\n    </tr>\n    <tr>\n      <th>3</th>\n      <td>1005450</td>\n      <td>premium</td>\n    </tr>\n    <tr>\n      <th>4</th>\n      <td>1006260</td>\n      <td>mid-range</td>\n    </tr>\n    <tr>\n      <th>...</th>\n      <td>...</td>\n      <td>...</td>\n    </tr>\n    <tr>\n      <th>995</th>\n      <td>814202</td>\n      <td>premium</td>\n    </tr>\n    <tr>\n      <th>996</th>\n      <td>950584</td>\n      <td>premium</td>\n    </tr>\n    <tr>\n      <th>997</th>\n      <td>999236</td>\n      <td>affordable</td>\n    </tr>\n    <tr>\n      <th>998</th>\n      <td>999300</td>\n      <td>luxury</td>\n    </tr>\n    <tr>\n      <th>999</th>\n      <td>999361</td>\n      <td>premium</td>\n    </tr>\n  </tbody>\n</table>\n<p>1000 rows × 2 columns</p>\n</div>"
     },
     "execution_count": 20,
     "metadata": {},
     "output_type": "execute_result"
    }
   ],
   "source": [
    "toy_label = toy_label.merge(expensiveness_df,how='left',on='image_id')\n",
    "toy_label"
   ],
   "metadata": {
    "collapsed": false
   }
  },
  {
   "cell_type": "code",
   "execution_count": 29,
   "outputs": [],
   "source": [
    "toy_label = toy_label.dropna()"
   ],
   "metadata": {
    "collapsed": false
   }
  },
  {
   "cell_type": "code",
   "execution_count": 30,
   "outputs": [
    {
     "data": {
      "text/plain": "mid-range     403\npremium       327\nluxury        178\naffordable     87\nName: expensiveness_category, dtype: int64"
     },
     "execution_count": 30,
     "metadata": {},
     "output_type": "execute_result"
    }
   ],
   "source": [
    "toy_label['expensiveness_category'].value_counts()"
   ],
   "metadata": {
    "collapsed": false
   }
  },
  {
   "cell_type": "code",
   "execution_count": 31,
   "outputs": [],
   "source": [
    "toy_label.to_csv('./toy_label.csv',index=False)"
   ],
   "metadata": {
    "collapsed": false
   }
  },
  {
   "cell_type": "code",
   "execution_count": null,
   "outputs": [],
   "source": [],
   "metadata": {
    "collapsed": false
   }
  }
 ],
 "metadata": {
  "kernelspec": {
   "display_name": "Python 3",
   "language": "python",
   "name": "python3"
  },
  "language_info": {
   "codemirror_mode": {
    "name": "ipython",
    "version": 2
   },
   "file_extension": ".py",
   "mimetype": "text/x-python",
   "name": "python",
   "nbconvert_exporter": "python",
   "pygments_lexer": "ipython2",
   "version": "2.7.6"
  }
 },
 "nbformat": 4,
 "nbformat_minor": 0
}
