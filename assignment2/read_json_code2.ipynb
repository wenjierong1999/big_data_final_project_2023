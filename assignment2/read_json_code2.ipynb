{
 "cells": [
  {
   "cell_type": "code",
   "execution_count": 20,
   "metadata": {
    "collapsed": true
   },
   "outputs": [],
   "source": [
    "import requests\n",
    "import json\n",
    "import pandas as pd\n",
    "\n",
    "\n",
    "json_url = 'http://seppe.net/aa/assignment2/dataset.json'\n",
    "response = requests.get(json_url)\n",
    "json_data = response.json()\n"
   ]
  },
  {
   "cell_type": "code",
   "execution_count": 3,
   "outputs": [
    {
     "data": {
      "text/plain": "      code             label       slug\n0  CAT_P02  A moderate spend  mid-range",
      "text/html": "<div>\n<style scoped>\n    .dataframe tbody tr th:only-of-type {\n        vertical-align: middle;\n    }\n\n    .dataframe tbody tr th {\n        vertical-align: top;\n    }\n\n    .dataframe thead th {\n        text-align: right;\n    }\n</style>\n<table border=\"1\" class=\"dataframe\">\n  <thead>\n    <tr style=\"text-align: right;\">\n      <th></th>\n      <th>code</th>\n      <th>label</th>\n      <th>slug</th>\n    </tr>\n  </thead>\n  <tbody>\n    <tr>\n      <th>0</th>\n      <td>CAT_P02</td>\n      <td>A moderate spend</td>\n      <td>mid-range</td>\n    </tr>\n  </tbody>\n</table>\n</div>"
     },
     "execution_count": 3,
     "metadata": {},
     "output_type": "execute_result"
    }
   ],
   "source": [
    "pd.DataFrame([json_data[0]['price_category']])"
   ],
   "metadata": {
    "collapsed": false
   }
  },
  {
   "cell_type": "code",
   "execution_count": 4,
   "outputs": [
    {
     "data": {
      "text/plain": "16455"
     },
     "execution_count": 4,
     "metadata": {},
     "output_type": "execute_result"
    }
   ],
   "source": [
    "len(json_data)\n"
   ],
   "metadata": {
    "collapsed": false
   }
  },
  {
   "cell_type": "code",
   "execution_count": 5,
   "outputs": [
    {
     "data": {
      "text/plain": "  image_id                                          image_url restaurant_name  \\\n0  2088757  https://axwwgrkdco.cloudimg.io/v7/__gmpics__/8...       Strofilia   \n1  2182000  https://axwwgrkdco.cloudimg.io/v7/__gmpics__/7...       Strofilia   \n2  4151606  https://axwwgrkdco.cloudimg.io/v7/__gmpics__/b...       Strofilia   \n3  4151588  https://axwwgrkdco.cloudimg.io/v7/__gmpics__/9...       Strofilia   \n4  2224983  https://axwwgrkdco.cloudimg.io/v7/__gmpics__/2...       Strofilia   \n\n  objectID  \n0    78848  \n1    78848  \n2    78848  \n3    78848  \n4    78848  ",
      "text/html": "<div>\n<style scoped>\n    .dataframe tbody tr th:only-of-type {\n        vertical-align: middle;\n    }\n\n    .dataframe tbody tr th {\n        vertical-align: top;\n    }\n\n    .dataframe thead th {\n        text-align: right;\n    }\n</style>\n<table border=\"1\" class=\"dataframe\">\n  <thead>\n    <tr style=\"text-align: right;\">\n      <th></th>\n      <th>image_id</th>\n      <th>image_url</th>\n      <th>restaurant_name</th>\n      <th>objectID</th>\n    </tr>\n  </thead>\n  <tbody>\n    <tr>\n      <th>0</th>\n      <td>2088757</td>\n      <td>https://axwwgrkdco.cloudimg.io/v7/__gmpics__/8...</td>\n      <td>Strofilia</td>\n      <td>78848</td>\n    </tr>\n    <tr>\n      <th>1</th>\n      <td>2182000</td>\n      <td>https://axwwgrkdco.cloudimg.io/v7/__gmpics__/7...</td>\n      <td>Strofilia</td>\n      <td>78848</td>\n    </tr>\n    <tr>\n      <th>2</th>\n      <td>4151606</td>\n      <td>https://axwwgrkdco.cloudimg.io/v7/__gmpics__/b...</td>\n      <td>Strofilia</td>\n      <td>78848</td>\n    </tr>\n    <tr>\n      <th>3</th>\n      <td>4151588</td>\n      <td>https://axwwgrkdco.cloudimg.io/v7/__gmpics__/9...</td>\n      <td>Strofilia</td>\n      <td>78848</td>\n    </tr>\n    <tr>\n      <th>4</th>\n      <td>2224983</td>\n      <td>https://axwwgrkdco.cloudimg.io/v7/__gmpics__/2...</td>\n      <td>Strofilia</td>\n      <td>78848</td>\n    </tr>\n  </tbody>\n</table>\n</div>"
     },
     "execution_count": 5,
     "metadata": {},
     "output_type": "execute_result"
    }
   ],
   "source": [
    "testdata = pd.DataFrame(json_data[0]['more_details'][\"full_images\"])\n",
    "testdata['restaurant_name'] = json_data[0]['more_details']['name']\n",
    "testdata['objectID'] = json_data[0]['objectID']\n",
    "testdata"
   ],
   "metadata": {
    "collapsed": false
   }
  },
  {
   "cell_type": "code",
   "execution_count": 6,
   "outputs": [
    {
     "data": {
      "text/plain": "   image_id                                          image_url  \\\n0   2088757  https://axwwgrkdco.cloudimg.io/v7/__gmpics__/8...   \n1   2182000  https://axwwgrkdco.cloudimg.io/v7/__gmpics__/7...   \n2   4151606  https://axwwgrkdco.cloudimg.io/v7/__gmpics__/b...   \n3   4151588  https://axwwgrkdco.cloudimg.io/v7/__gmpics__/9...   \n4   2224983  https://axwwgrkdco.cloudimg.io/v7/__gmpics__/2...   \n..      ...                                                ...   \n8   1928176  https://axwwgrkdco.cloudimg.io/v7/__gmpics__/1...   \n9   5611477  https://axwwgrkdco.cloudimg.io/v7/__gmpics__/0...   \n10  1928253  https://axwwgrkdco.cloudimg.io/v7/__gmpics__/e...   \n11  5611399  https://axwwgrkdco.cloudimg.io/v7/__gmpics__/4...   \n12  1928177  https://axwwgrkdco.cloudimg.io/v7/__gmpics__/a...   \n\n   restaurant_name objectID  \n0        Strofilia    78848  \n1        Strofilia    78848  \n2        Strofilia    78848  \n3        Strofilia    78848  \n4        Strofilia    78848  \n..             ...      ...  \n8         Pod Różą    34507  \n9         Pod Różą    34507  \n10        Pod Różą    34507  \n11        Pod Różą    34507  \n12        Pod Różą    34507  \n\n[117022 rows x 4 columns]",
      "text/html": "<div>\n<style scoped>\n    .dataframe tbody tr th:only-of-type {\n        vertical-align: middle;\n    }\n\n    .dataframe tbody tr th {\n        vertical-align: top;\n    }\n\n    .dataframe thead th {\n        text-align: right;\n    }\n</style>\n<table border=\"1\" class=\"dataframe\">\n  <thead>\n    <tr style=\"text-align: right;\">\n      <th></th>\n      <th>image_id</th>\n      <th>image_url</th>\n      <th>restaurant_name</th>\n      <th>objectID</th>\n    </tr>\n  </thead>\n  <tbody>\n    <tr>\n      <th>0</th>\n      <td>2088757</td>\n      <td>https://axwwgrkdco.cloudimg.io/v7/__gmpics__/8...</td>\n      <td>Strofilia</td>\n      <td>78848</td>\n    </tr>\n    <tr>\n      <th>1</th>\n      <td>2182000</td>\n      <td>https://axwwgrkdco.cloudimg.io/v7/__gmpics__/7...</td>\n      <td>Strofilia</td>\n      <td>78848</td>\n    </tr>\n    <tr>\n      <th>2</th>\n      <td>4151606</td>\n      <td>https://axwwgrkdco.cloudimg.io/v7/__gmpics__/b...</td>\n      <td>Strofilia</td>\n      <td>78848</td>\n    </tr>\n    <tr>\n      <th>3</th>\n      <td>4151588</td>\n      <td>https://axwwgrkdco.cloudimg.io/v7/__gmpics__/9...</td>\n      <td>Strofilia</td>\n      <td>78848</td>\n    </tr>\n    <tr>\n      <th>4</th>\n      <td>2224983</td>\n      <td>https://axwwgrkdco.cloudimg.io/v7/__gmpics__/2...</td>\n      <td>Strofilia</td>\n      <td>78848</td>\n    </tr>\n    <tr>\n      <th>...</th>\n      <td>...</td>\n      <td>...</td>\n      <td>...</td>\n      <td>...</td>\n    </tr>\n    <tr>\n      <th>8</th>\n      <td>1928176</td>\n      <td>https://axwwgrkdco.cloudimg.io/v7/__gmpics__/1...</td>\n      <td>Pod Różą</td>\n      <td>34507</td>\n    </tr>\n    <tr>\n      <th>9</th>\n      <td>5611477</td>\n      <td>https://axwwgrkdco.cloudimg.io/v7/__gmpics__/0...</td>\n      <td>Pod Różą</td>\n      <td>34507</td>\n    </tr>\n    <tr>\n      <th>10</th>\n      <td>1928253</td>\n      <td>https://axwwgrkdco.cloudimg.io/v7/__gmpics__/e...</td>\n      <td>Pod Różą</td>\n      <td>34507</td>\n    </tr>\n    <tr>\n      <th>11</th>\n      <td>5611399</td>\n      <td>https://axwwgrkdco.cloudimg.io/v7/__gmpics__/4...</td>\n      <td>Pod Różą</td>\n      <td>34507</td>\n    </tr>\n    <tr>\n      <th>12</th>\n      <td>1928177</td>\n      <td>https://axwwgrkdco.cloudimg.io/v7/__gmpics__/a...</td>\n      <td>Pod Różą</td>\n      <td>34507</td>\n    </tr>\n  </tbody>\n</table>\n<p>117022 rows × 4 columns</p>\n</div>"
     },
     "execution_count": 6,
     "metadata": {},
     "output_type": "execute_result"
    }
   ],
   "source": [
    "images = pd.DataFrame()\n",
    "for temp_restaurant in json_data:\n",
    "    temp_images = pd.DataFrame(temp_restaurant['more_details'][\"full_images\"])\n",
    "    temp_images['restaurant_name'] = temp_restaurant['more_details']['name']\n",
    "    temp_images['objectID'] = temp_restaurant['objectID']\n",
    "    images = pd.concat([images,temp_images],axis=0)\n",
    "images"
   ],
   "metadata": {
    "collapsed": false
   }
  },
  {
   "cell_type": "code",
   "execution_count": 7,
   "outputs": [],
   "source": [
    "images.to_csv('D:/KULprojectdata/big data/assignment2/images.csv',index=False)"
   ],
   "metadata": {
    "collapsed": false
   }
  },
  {
   "cell_type": "markdown",
   "source": [],
   "metadata": {
    "collapsed": false
   }
  },
  {
   "cell_type": "code",
   "execution_count": 8,
   "outputs": [
    {
     "data": {
      "text/plain": "        code           label            slug      restaurant_name objectID\n0   TYC_1056           Greek           greek            Strofilia    78848\n0   TYC_1052   Modern French   modern-french              Selecto    79182\n0   TYC_1096         Seafood    seafood-1096             La Marée    79041\n0   TYC_1052   Modern French   modern-french                Henri    79268\n0   TYC_1096         Seafood    seafood-1096  La Belle Maraîchère    79301\n..       ...             ...             ...                  ...      ...\n1   TYC_1085  Modern Cuisine  modern-cuisine            Dyletanci    34510\n0   TYC_1097          Polish          polish      Szara Kazimierz    34509\n0   TYC_1097          Polish          polish     Europejski Grill    34508\n1   TYC_1085  Modern Cuisine  modern-cuisine     Europejski Grill    34508\n0   TYC_1085  Modern Cuisine  modern-cuisine             Pod Różą    34507\n\n[21267 rows x 5 columns]",
      "text/html": "<div>\n<style scoped>\n    .dataframe tbody tr th:only-of-type {\n        vertical-align: middle;\n    }\n\n    .dataframe tbody tr th {\n        vertical-align: top;\n    }\n\n    .dataframe thead th {\n        text-align: right;\n    }\n</style>\n<table border=\"1\" class=\"dataframe\">\n  <thead>\n    <tr style=\"text-align: right;\">\n      <th></th>\n      <th>code</th>\n      <th>label</th>\n      <th>slug</th>\n      <th>restaurant_name</th>\n      <th>objectID</th>\n    </tr>\n  </thead>\n  <tbody>\n    <tr>\n      <th>0</th>\n      <td>TYC_1056</td>\n      <td>Greek</td>\n      <td>greek</td>\n      <td>Strofilia</td>\n      <td>78848</td>\n    </tr>\n    <tr>\n      <th>0</th>\n      <td>TYC_1052</td>\n      <td>Modern French</td>\n      <td>modern-french</td>\n      <td>Selecto</td>\n      <td>79182</td>\n    </tr>\n    <tr>\n      <th>0</th>\n      <td>TYC_1096</td>\n      <td>Seafood</td>\n      <td>seafood-1096</td>\n      <td>La Marée</td>\n      <td>79041</td>\n    </tr>\n    <tr>\n      <th>0</th>\n      <td>TYC_1052</td>\n      <td>Modern French</td>\n      <td>modern-french</td>\n      <td>Henri</td>\n      <td>79268</td>\n    </tr>\n    <tr>\n      <th>0</th>\n      <td>TYC_1096</td>\n      <td>Seafood</td>\n      <td>seafood-1096</td>\n      <td>La Belle Maraîchère</td>\n      <td>79301</td>\n    </tr>\n    <tr>\n      <th>...</th>\n      <td>...</td>\n      <td>...</td>\n      <td>...</td>\n      <td>...</td>\n      <td>...</td>\n    </tr>\n    <tr>\n      <th>1</th>\n      <td>TYC_1085</td>\n      <td>Modern Cuisine</td>\n      <td>modern-cuisine</td>\n      <td>Dyletanci</td>\n      <td>34510</td>\n    </tr>\n    <tr>\n      <th>0</th>\n      <td>TYC_1097</td>\n      <td>Polish</td>\n      <td>polish</td>\n      <td>Szara Kazimierz</td>\n      <td>34509</td>\n    </tr>\n    <tr>\n      <th>0</th>\n      <td>TYC_1097</td>\n      <td>Polish</td>\n      <td>polish</td>\n      <td>Europejski Grill</td>\n      <td>34508</td>\n    </tr>\n    <tr>\n      <th>1</th>\n      <td>TYC_1085</td>\n      <td>Modern Cuisine</td>\n      <td>modern-cuisine</td>\n      <td>Europejski Grill</td>\n      <td>34508</td>\n    </tr>\n    <tr>\n      <th>0</th>\n      <td>TYC_1085</td>\n      <td>Modern Cuisine</td>\n      <td>modern-cuisine</td>\n      <td>Pod Różą</td>\n      <td>34507</td>\n    </tr>\n  </tbody>\n</table>\n<p>21267 rows × 5 columns</p>\n</div>"
     },
     "execution_count": 8,
     "metadata": {},
     "output_type": "execute_result"
    }
   ],
   "source": [
    "cuisines = pd.DataFrame()\n",
    "for temp_restaurant in json_data:\n",
    "    temp_cuisines = pd.DataFrame(temp_restaurant['cuisines'])\n",
    "    temp_cuisines['restaurant_name'] = temp_restaurant['more_details']['name']\n",
    "    temp_cuisines['objectID'] = temp_restaurant['objectID']\n",
    "    cuisines = pd.concat([cuisines,temp_cuisines],axis=0)\n",
    "\n",
    "cuisines"
   ],
   "metadata": {
    "collapsed": false
   }
  },
  {
   "cell_type": "markdown",
   "source": [
    "There are 275 categories of cuisines, may be we can merge some of them together? (zhejiang, hainanese, xibei can be merged as chinese food)"
   ],
   "metadata": {
    "collapsed": false
   }
  },
  {
   "cell_type": "markdown",
   "source": [],
   "metadata": {
    "collapsed": false
   }
  },
  {
   "cell_type": "code",
   "execution_count": 9,
   "outputs": [
    {
     "data": {
      "text/plain": "array(['Greek', 'Modern French', 'Seafood', 'Classic Cuisine', 'Organic',\n       'Market Cuisine', 'Japanese', 'Belgian', 'Classic French',\n       'Creative', 'Traditional Cuisine', 'Italian', 'Seasonal Cuisine',\n       'Spanish', 'Sicilian', 'Country cooking', 'Asian Influences',\n       'Modern Cuisine', 'International', 'Vietnamese Contemporary',\n       'Meats and Grills', 'Regional Cuisine',\n       'Cuisine from South West France', 'French', 'Vegetarian',\n       'Home Cooking', 'Sharing', 'Contemporary', 'World Cuisine',\n       'Creative French', 'French Contemporary', 'Asian', 'Korean',\n       'Sushi', 'Chinese', 'Sichuan', 'Mediterranean Cuisine', 'Roman',\n       'Grills', 'Thai', 'Lebanese', 'Middle Eastern', 'Vietnamese',\n       'Fusion', 'Lyonnaise', 'Chicken Specialities', 'Barbecue',\n       'Latin American', 'Italian Contemporary', 'Asian Contemporary',\n       'Vegan', 'Spanish Contemporary', 'Flemish', 'Turkish',\n       'Portuguese', 'Scandinavian', 'Cuisine from the Marches',\n       'Mexican', 'South American', 'Street Food', 'Small eats',\n       'Noodles', 'European Contemporary', 'Innovative', 'Cantonese',\n       'Thai contemporary', 'Californian', 'Steakhouse',\n       'American Contemporary', 'Yakiniku', 'Beef Specialities',\n       'Peruvian', 'Ramen', 'Southern', 'American', 'Gastropub',\n       'Izakaya', 'Indian', 'Caribbean', 'Campanian', 'Provençal',\n       'Argentinian', 'Japanese Contemporary', 'Israeli', 'Catalan',\n       'Cuisine from Aveyron', 'Savoyard', 'Teppanyaki',\n       'Cheese, Fondue and Raclette', 'Filipino', 'Breton', 'Basque',\n       'Alsatian', 'South East Asian', 'Corsican', 'Tempura',\n       'Burgundian', 'Yakitori', 'Cuisine from Franche-Comté', 'Tunisian',\n       'Shanghainese', 'Moroccan', 'Danish', 'Alpine', 'German', 'Irish',\n       'Modern British', 'Traditional British', 'Malaysian',\n       'Italian and Japanese', 'Taiwanese', 'Cuisine from Abruzzo',\n       'Austrian', 'English', 'Brazilian', 'Ligurian', 'European',\n       'South Tyrolean', 'Piedmontese', 'Pizza', 'Huaiyang', 'Shandong',\n       'Beijing Cuisine', 'Taizhou', 'Hunanese', 'Yunnanese',\n       'Chinese Contemporary', 'Dumplings', 'Hotpot', 'Chao Zhou',\n       'Jiangzhe', 'Hubei', 'Dongbei', 'Hui Cuisine', 'Ningbo', 'Dim Sum',\n       'Fujian', 'Noodles and Congee', 'Hang Zhou', 'Guizhou', 'Teochew',\n       'Peranakan', 'Burmese', 'Sri Lankan', 'Asian and Western',\n       'Balkan', 'Ethiopian', 'Italian-American', 'Curry',\n       'North African', 'Tex-Mex', 'Russian', 'Persian', 'Bulgogi',\n       'Creole', 'Milanese', 'Puerto Rican', 'Hawaiian',\n       'Hunanese and Sichuan', 'Deli', 'Udon', 'Indonesian',\n       'Thai and Vietnamese', 'Tuscan', 'Duck Specialities', 'Cuban',\n       'Lao', 'Sukiyaki', 'Shellfish Specialities', 'Armenian',\n       'Pakistani', 'Scottish', 'Northern Thai', 'Isan', 'Southern Thai',\n       'Thai-Chinese', 'Rice Dishes', 'Pork Specialities',\n       'Meats and Seafood', 'Andalusian', 'Castilian', 'Galician',\n       'Cuisine from Alentejo', 'Japanese Steakhouse',\n       'Regional European', 'Colombian', 'Asturian',\n       'Unagi / Freshwater Eel', 'Tonkatsu', 'Soba', 'Shojin', 'Oden',\n       'Yoshoku', 'Fugu / Pufferfish', 'Crab Specialities', 'Onigiri',\n       'Emirati Cuisine', 'Venetian', 'Emilian', 'Lombardian', 'Apulian',\n       'Cuisine from Lazio', 'Cuisine from the Aosta Valley', 'Umbrian',\n       'Cuisine from Romagna', 'Sardinian', 'Friulian', 'Mantuan',\n       'Calabrian', 'Cuisine from Basilicata', 'Sardine Specialities',\n       'Cuisine from Valtellina', 'Hungarian', 'North American',\n       'African', 'Cambodian', 'Shaanxi', 'Swiss', 'Singaporean',\n       'Naengmyeon', 'Gomtang', 'Korean Contemporary', 'Memil-guksu',\n       'Sujebi', 'Samgyetang', 'Kalguksu', 'Mandu', 'Kushiage', 'Dubu',\n       'Gejang', 'Dwaeji-gukbap', 'Seolleongtang', 'Jokbal', 'Doganitang',\n       'Chueotang', 'Yukhoe', 'Central Asian', 'Polish', 'Tibetan',\n       'Jamaican', 'Venezuelan', 'Czech', 'Croatian', 'Bakery',\n       'Okonomiyaki', 'Obanzai', 'Anago / Saltwater Eel',\n       'British Contemporary', 'Egyptian', 'Hakkanese', 'Congee',\n       'Shabu-shabu', 'Zhejiang', 'Hainanese', 'Xibei',\n       'Cantonese Roast Meats', 'Finnish', 'Smørrebrød', 'Swedish',\n       'Norwegian', 'Indian Vegetarian', 'South African', 'Somen',\n       'Afghan', 'Eastern European', 'Oyster Specialities', 'Cajun',\n       'Bavarian', 'Creative British', 'South Indian', 'Macanese',\n       'Chiu Chow', 'Shun Tak', 'Singaporean and Malaysian', 'Xinjiang'],\n      dtype=object)"
     },
     "execution_count": 9,
     "metadata": {},
     "output_type": "execute_result"
    }
   ],
   "source": [
    "cuisines['label'].unique()"
   ],
   "metadata": {
    "collapsed": false
   }
  },
  {
   "cell_type": "code",
   "execution_count": 10,
   "outputs": [
    {
     "data": {
      "text/plain": "        code           label            slug      restaurant_name objectID\n0   TYC_1056           Greek           greek            Strofilia    78848\n0   TYC_1052   Modern French   modern-french              Selecto    79182\n0   TYC_1096         Seafood    seafood-1096             La Marée    79041\n0   TYC_1052   Modern French   modern-french                Henri    79268\n0   TYC_1096         Seafood    seafood-1096  La Belle Maraîchère    79301\n..       ...             ...             ...                  ...      ...\n1   TYC_1085  Modern Cuisine  modern-cuisine            Dyletanci    34510\n0   TYC_1097          Polish          polish      Szara Kazimierz    34509\n0   TYC_1097          Polish          polish     Europejski Grill    34508\n1   TYC_1085  Modern Cuisine  modern-cuisine     Europejski Grill    34508\n0   TYC_1085  Modern Cuisine  modern-cuisine             Pod Różą    34507\n\n[21267 rows x 5 columns]",
      "text/html": "<div>\n<style scoped>\n    .dataframe tbody tr th:only-of-type {\n        vertical-align: middle;\n    }\n\n    .dataframe tbody tr th {\n        vertical-align: top;\n    }\n\n    .dataframe thead th {\n        text-align: right;\n    }\n</style>\n<table border=\"1\" class=\"dataframe\">\n  <thead>\n    <tr style=\"text-align: right;\">\n      <th></th>\n      <th>code</th>\n      <th>label</th>\n      <th>slug</th>\n      <th>restaurant_name</th>\n      <th>objectID</th>\n    </tr>\n  </thead>\n  <tbody>\n    <tr>\n      <th>0</th>\n      <td>TYC_1056</td>\n      <td>Greek</td>\n      <td>greek</td>\n      <td>Strofilia</td>\n      <td>78848</td>\n    </tr>\n    <tr>\n      <th>0</th>\n      <td>TYC_1052</td>\n      <td>Modern French</td>\n      <td>modern-french</td>\n      <td>Selecto</td>\n      <td>79182</td>\n    </tr>\n    <tr>\n      <th>0</th>\n      <td>TYC_1096</td>\n      <td>Seafood</td>\n      <td>seafood-1096</td>\n      <td>La Marée</td>\n      <td>79041</td>\n    </tr>\n    <tr>\n      <th>0</th>\n      <td>TYC_1052</td>\n      <td>Modern French</td>\n      <td>modern-french</td>\n      <td>Henri</td>\n      <td>79268</td>\n    </tr>\n    <tr>\n      <th>0</th>\n      <td>TYC_1096</td>\n      <td>Seafood</td>\n      <td>seafood-1096</td>\n      <td>La Belle Maraîchère</td>\n      <td>79301</td>\n    </tr>\n    <tr>\n      <th>...</th>\n      <td>...</td>\n      <td>...</td>\n      <td>...</td>\n      <td>...</td>\n      <td>...</td>\n    </tr>\n    <tr>\n      <th>1</th>\n      <td>TYC_1085</td>\n      <td>Modern Cuisine</td>\n      <td>modern-cuisine</td>\n      <td>Dyletanci</td>\n      <td>34510</td>\n    </tr>\n    <tr>\n      <th>0</th>\n      <td>TYC_1097</td>\n      <td>Polish</td>\n      <td>polish</td>\n      <td>Szara Kazimierz</td>\n      <td>34509</td>\n    </tr>\n    <tr>\n      <th>0</th>\n      <td>TYC_1097</td>\n      <td>Polish</td>\n      <td>polish</td>\n      <td>Europejski Grill</td>\n      <td>34508</td>\n    </tr>\n    <tr>\n      <th>1</th>\n      <td>TYC_1085</td>\n      <td>Modern Cuisine</td>\n      <td>modern-cuisine</td>\n      <td>Europejski Grill</td>\n      <td>34508</td>\n    </tr>\n    <tr>\n      <th>0</th>\n      <td>TYC_1085</td>\n      <td>Modern Cuisine</td>\n      <td>modern-cuisine</td>\n      <td>Pod Różą</td>\n      <td>34507</td>\n    </tr>\n  </tbody>\n</table>\n<p>21267 rows × 5 columns</p>\n</div>"
     },
     "execution_count": 10,
     "metadata": {},
     "output_type": "execute_result"
    }
   ],
   "source": [
    "cuisines"
   ],
   "metadata": {
    "collapsed": false
   }
  },
  {
   "cell_type": "code",
   "execution_count": 11,
   "outputs": [
    {
     "data": {
      "text/plain": "       code             label        slug      restaurant_name objectID    0\n0   CAT_P02  A moderate spend   mid-range            Strofilia    78848  NaN\n0   CAT_P02  A moderate spend   mid-range              Selecto    79182  NaN\n0   CAT_P03  Special occasion     premium             La Marée    79041  NaN\n0   CAT_P03  Special occasion     premium                Henri    79268  NaN\n0   CAT_P03  Special occasion     premium  La Belle Maraîchère    79301  NaN\n..      ...               ...         ...                  ...      ...  ...\n0   CAT_P02  A moderate spend   mid-range              alewino    34512  NaN\n0   CAT_P04  Spare no expense      luxury            Dyletanci    34510  NaN\n0   CAT_P01       On a budget  affordable      Szara Kazimierz    34509  NaN\n0   CAT_P04  Spare no expense      luxury     Europejski Grill    34508  NaN\n0   CAT_P03  Special occasion     premium             Pod Różą    34507  NaN\n\n[16455 rows x 6 columns]",
      "text/html": "<div>\n<style scoped>\n    .dataframe tbody tr th:only-of-type {\n        vertical-align: middle;\n    }\n\n    .dataframe tbody tr th {\n        vertical-align: top;\n    }\n\n    .dataframe thead th {\n        text-align: right;\n    }\n</style>\n<table border=\"1\" class=\"dataframe\">\n  <thead>\n    <tr style=\"text-align: right;\">\n      <th></th>\n      <th>code</th>\n      <th>label</th>\n      <th>slug</th>\n      <th>restaurant_name</th>\n      <th>objectID</th>\n      <th>0</th>\n    </tr>\n  </thead>\n  <tbody>\n    <tr>\n      <th>0</th>\n      <td>CAT_P02</td>\n      <td>A moderate spend</td>\n      <td>mid-range</td>\n      <td>Strofilia</td>\n      <td>78848</td>\n      <td>NaN</td>\n    </tr>\n    <tr>\n      <th>0</th>\n      <td>CAT_P02</td>\n      <td>A moderate spend</td>\n      <td>mid-range</td>\n      <td>Selecto</td>\n      <td>79182</td>\n      <td>NaN</td>\n    </tr>\n    <tr>\n      <th>0</th>\n      <td>CAT_P03</td>\n      <td>Special occasion</td>\n      <td>premium</td>\n      <td>La Marée</td>\n      <td>79041</td>\n      <td>NaN</td>\n    </tr>\n    <tr>\n      <th>0</th>\n      <td>CAT_P03</td>\n      <td>Special occasion</td>\n      <td>premium</td>\n      <td>Henri</td>\n      <td>79268</td>\n      <td>NaN</td>\n    </tr>\n    <tr>\n      <th>0</th>\n      <td>CAT_P03</td>\n      <td>Special occasion</td>\n      <td>premium</td>\n      <td>La Belle Maraîchère</td>\n      <td>79301</td>\n      <td>NaN</td>\n    </tr>\n    <tr>\n      <th>...</th>\n      <td>...</td>\n      <td>...</td>\n      <td>...</td>\n      <td>...</td>\n      <td>...</td>\n      <td>...</td>\n    </tr>\n    <tr>\n      <th>0</th>\n      <td>CAT_P02</td>\n      <td>A moderate spend</td>\n      <td>mid-range</td>\n      <td>alewino</td>\n      <td>34512</td>\n      <td>NaN</td>\n    </tr>\n    <tr>\n      <th>0</th>\n      <td>CAT_P04</td>\n      <td>Spare no expense</td>\n      <td>luxury</td>\n      <td>Dyletanci</td>\n      <td>34510</td>\n      <td>NaN</td>\n    </tr>\n    <tr>\n      <th>0</th>\n      <td>CAT_P01</td>\n      <td>On a budget</td>\n      <td>affordable</td>\n      <td>Szara Kazimierz</td>\n      <td>34509</td>\n      <td>NaN</td>\n    </tr>\n    <tr>\n      <th>0</th>\n      <td>CAT_P04</td>\n      <td>Spare no expense</td>\n      <td>luxury</td>\n      <td>Europejski Grill</td>\n      <td>34508</td>\n      <td>NaN</td>\n    </tr>\n    <tr>\n      <th>0</th>\n      <td>CAT_P03</td>\n      <td>Special occasion</td>\n      <td>premium</td>\n      <td>Pod Różą</td>\n      <td>34507</td>\n      <td>NaN</td>\n    </tr>\n  </tbody>\n</table>\n<p>16455 rows × 6 columns</p>\n</div>"
     },
     "execution_count": 11,
     "metadata": {},
     "output_type": "execute_result"
    }
   ],
   "source": [
    "expensiveness = pd.DataFrame()\n",
    "for temp_restaurant in json_data:\n",
    "    temp_expensiveness = pd.DataFrame([temp_restaurant['price_category']])\n",
    "    temp_expensiveness['restaurant_name'] = temp_restaurant['more_details']['name']\n",
    "    temp_expensiveness['objectID'] = temp_restaurant['objectID']\n",
    "    expensiveness = pd.concat([expensiveness,temp_expensiveness],axis=0)\n",
    "\n",
    "expensiveness"
   ],
   "metadata": {
    "collapsed": false
   }
  },
  {
   "cell_type": "code",
   "execution_count": 14,
   "outputs": [],
   "source": [
    "expensiveness.to_csv('D:/big_data_final_projedt_2023/assignment2/expensiveness.csv',index=False)\n",
    "cuisines.to_csv('D:/big_data_final_projedt_2023/assignment2/cuisines.csv',index=False)"
   ],
   "metadata": {
    "collapsed": false
   }
  },
  {
   "cell_type": "code",
   "execution_count": 16,
   "outputs": [
    {
     "data": {
      "text/plain": "       image_id                                          image_url  \\\n0       2088757  https://axwwgrkdco.cloudimg.io/v7/__gmpics__/8...   \n1       2182000  https://axwwgrkdco.cloudimg.io/v7/__gmpics__/7...   \n2       4151606  https://axwwgrkdco.cloudimg.io/v7/__gmpics__/b...   \n3       4151588  https://axwwgrkdco.cloudimg.io/v7/__gmpics__/9...   \n4       2224983  https://axwwgrkdco.cloudimg.io/v7/__gmpics__/2...   \n...         ...                                                ...   \n152383  1928176  https://axwwgrkdco.cloudimg.io/v7/__gmpics__/1...   \n152384  5611477  https://axwwgrkdco.cloudimg.io/v7/__gmpics__/0...   \n152385  1928253  https://axwwgrkdco.cloudimg.io/v7/__gmpics__/e...   \n152386  5611399  https://axwwgrkdco.cloudimg.io/v7/__gmpics__/4...   \n152387  1928177  https://axwwgrkdco.cloudimg.io/v7/__gmpics__/a...   \n\n       restaurant_name_x objectID      code           label            slug  \\\n0              Strofilia    78848  TYC_1056           Greek           greek   \n1              Strofilia    78848  TYC_1056           Greek           greek   \n2              Strofilia    78848  TYC_1056           Greek           greek   \n3              Strofilia    78848  TYC_1056           Greek           greek   \n4              Strofilia    78848  TYC_1056           Greek           greek   \n...                  ...      ...       ...             ...             ...   \n152383          Pod Różą    34507  TYC_1085  Modern Cuisine  modern-cuisine   \n152384          Pod Różą    34507  TYC_1085  Modern Cuisine  modern-cuisine   \n152385          Pod Różą    34507  TYC_1085  Modern Cuisine  modern-cuisine   \n152386          Pod Różą    34507  TYC_1085  Modern Cuisine  modern-cuisine   \n152387          Pod Różą    34507  TYC_1085  Modern Cuisine  modern-cuisine   \n\n       restaurant_name_y  \n0              Strofilia  \n1              Strofilia  \n2              Strofilia  \n3              Strofilia  \n4              Strofilia  \n...                  ...  \n152383          Pod Różą  \n152384          Pod Różą  \n152385          Pod Różą  \n152386          Pod Różą  \n152387          Pod Różą  \n\n[152388 rows x 8 columns]",
      "text/html": "<div>\n<style scoped>\n    .dataframe tbody tr th:only-of-type {\n        vertical-align: middle;\n    }\n\n    .dataframe tbody tr th {\n        vertical-align: top;\n    }\n\n    .dataframe thead th {\n        text-align: right;\n    }\n</style>\n<table border=\"1\" class=\"dataframe\">\n  <thead>\n    <tr style=\"text-align: right;\">\n      <th></th>\n      <th>image_id</th>\n      <th>image_url</th>\n      <th>restaurant_name_x</th>\n      <th>objectID</th>\n      <th>code</th>\n      <th>label</th>\n      <th>slug</th>\n      <th>restaurant_name_y</th>\n    </tr>\n  </thead>\n  <tbody>\n    <tr>\n      <th>0</th>\n      <td>2088757</td>\n      <td>https://axwwgrkdco.cloudimg.io/v7/__gmpics__/8...</td>\n      <td>Strofilia</td>\n      <td>78848</td>\n      <td>TYC_1056</td>\n      <td>Greek</td>\n      <td>greek</td>\n      <td>Strofilia</td>\n    </tr>\n    <tr>\n      <th>1</th>\n      <td>2182000</td>\n      <td>https://axwwgrkdco.cloudimg.io/v7/__gmpics__/7...</td>\n      <td>Strofilia</td>\n      <td>78848</td>\n      <td>TYC_1056</td>\n      <td>Greek</td>\n      <td>greek</td>\n      <td>Strofilia</td>\n    </tr>\n    <tr>\n      <th>2</th>\n      <td>4151606</td>\n      <td>https://axwwgrkdco.cloudimg.io/v7/__gmpics__/b...</td>\n      <td>Strofilia</td>\n      <td>78848</td>\n      <td>TYC_1056</td>\n      <td>Greek</td>\n      <td>greek</td>\n      <td>Strofilia</td>\n    </tr>\n    <tr>\n      <th>3</th>\n      <td>4151588</td>\n      <td>https://axwwgrkdco.cloudimg.io/v7/__gmpics__/9...</td>\n      <td>Strofilia</td>\n      <td>78848</td>\n      <td>TYC_1056</td>\n      <td>Greek</td>\n      <td>greek</td>\n      <td>Strofilia</td>\n    </tr>\n    <tr>\n      <th>4</th>\n      <td>2224983</td>\n      <td>https://axwwgrkdco.cloudimg.io/v7/__gmpics__/2...</td>\n      <td>Strofilia</td>\n      <td>78848</td>\n      <td>TYC_1056</td>\n      <td>Greek</td>\n      <td>greek</td>\n      <td>Strofilia</td>\n    </tr>\n    <tr>\n      <th>...</th>\n      <td>...</td>\n      <td>...</td>\n      <td>...</td>\n      <td>...</td>\n      <td>...</td>\n      <td>...</td>\n      <td>...</td>\n      <td>...</td>\n    </tr>\n    <tr>\n      <th>152383</th>\n      <td>1928176</td>\n      <td>https://axwwgrkdco.cloudimg.io/v7/__gmpics__/1...</td>\n      <td>Pod Różą</td>\n      <td>34507</td>\n      <td>TYC_1085</td>\n      <td>Modern Cuisine</td>\n      <td>modern-cuisine</td>\n      <td>Pod Różą</td>\n    </tr>\n    <tr>\n      <th>152384</th>\n      <td>5611477</td>\n      <td>https://axwwgrkdco.cloudimg.io/v7/__gmpics__/0...</td>\n      <td>Pod Różą</td>\n      <td>34507</td>\n      <td>TYC_1085</td>\n      <td>Modern Cuisine</td>\n      <td>modern-cuisine</td>\n      <td>Pod Różą</td>\n    </tr>\n    <tr>\n      <th>152385</th>\n      <td>1928253</td>\n      <td>https://axwwgrkdco.cloudimg.io/v7/__gmpics__/e...</td>\n      <td>Pod Różą</td>\n      <td>34507</td>\n      <td>TYC_1085</td>\n      <td>Modern Cuisine</td>\n      <td>modern-cuisine</td>\n      <td>Pod Różą</td>\n    </tr>\n    <tr>\n      <th>152386</th>\n      <td>5611399</td>\n      <td>https://axwwgrkdco.cloudimg.io/v7/__gmpics__/4...</td>\n      <td>Pod Różą</td>\n      <td>34507</td>\n      <td>TYC_1085</td>\n      <td>Modern Cuisine</td>\n      <td>modern-cuisine</td>\n      <td>Pod Różą</td>\n    </tr>\n    <tr>\n      <th>152387</th>\n      <td>1928177</td>\n      <td>https://axwwgrkdco.cloudimg.io/v7/__gmpics__/a...</td>\n      <td>Pod Różą</td>\n      <td>34507</td>\n      <td>TYC_1085</td>\n      <td>Modern Cuisine</td>\n      <td>modern-cuisine</td>\n      <td>Pod Różą</td>\n    </tr>\n  </tbody>\n</table>\n<p>152388 rows × 8 columns</p>\n</div>"
     },
     "execution_count": 16,
     "metadata": {},
     "output_type": "execute_result"
    }
   ],
   "source": [
    "images_cuisines = images.merge(cuisines,how='left',on='objectID')\n",
    "images_cuisines"
   ],
   "metadata": {
    "collapsed": false
   }
  },
  {
   "cell_type": "code",
   "execution_count": 17,
   "outputs": [
    {
     "data": {
      "text/plain": "       image_id                                          image_url  \\\n0       2088757  https://axwwgrkdco.cloudimg.io/v7/__gmpics__/8...   \n1       2182000  https://axwwgrkdco.cloudimg.io/v7/__gmpics__/7...   \n2       4151606  https://axwwgrkdco.cloudimg.io/v7/__gmpics__/b...   \n3       4151588  https://axwwgrkdco.cloudimg.io/v7/__gmpics__/9...   \n4       2224983  https://axwwgrkdco.cloudimg.io/v7/__gmpics__/2...   \n...         ...                                                ...   \n152383  1928176  https://axwwgrkdco.cloudimg.io/v7/__gmpics__/1...   \n152384  5611477  https://axwwgrkdco.cloudimg.io/v7/__gmpics__/0...   \n152385  1928253  https://axwwgrkdco.cloudimg.io/v7/__gmpics__/e...   \n152386  5611399  https://axwwgrkdco.cloudimg.io/v7/__gmpics__/4...   \n152387  1928177  https://axwwgrkdco.cloudimg.io/v7/__gmpics__/a...   \n\n       restaurant_name_x objectID code_fromcuisines label_fromcuisines  \\\n0              Strofilia    78848          TYC_1056              Greek   \n1              Strofilia    78848          TYC_1056              Greek   \n2              Strofilia    78848          TYC_1056              Greek   \n3              Strofilia    78848          TYC_1056              Greek   \n4              Strofilia    78848          TYC_1056              Greek   \n...                  ...      ...               ...                ...   \n152383          Pod Różą    34507          TYC_1085     Modern Cuisine   \n152384          Pod Różą    34507          TYC_1085     Modern Cuisine   \n152385          Pod Różą    34507          TYC_1085     Modern Cuisine   \n152386          Pod Różą    34507          TYC_1085     Modern Cuisine   \n152387          Pod Różą    34507          TYC_1085     Modern Cuisine   \n\n       slug_fromcuisines restaurant_name_y code_fromprice   label_fromprice  \\\n0                  greek         Strofilia        CAT_P02  A moderate spend   \n1                  greek         Strofilia        CAT_P02  A moderate spend   \n2                  greek         Strofilia        CAT_P02  A moderate spend   \n3                  greek         Strofilia        CAT_P02  A moderate spend   \n4                  greek         Strofilia        CAT_P02  A moderate spend   \n...                  ...               ...            ...               ...   \n152383    modern-cuisine          Pod Różą        CAT_P03  Special occasion   \n152384    modern-cuisine          Pod Różą        CAT_P03  Special occasion   \n152385    modern-cuisine          Pod Różą        CAT_P03  Special occasion   \n152386    modern-cuisine          Pod Różą        CAT_P03  Special occasion   \n152387    modern-cuisine          Pod Różą        CAT_P03  Special occasion   \n\n       slug_fromprice restaurant_name    0  \n0           mid-range       Strofilia  NaN  \n1           mid-range       Strofilia  NaN  \n2           mid-range       Strofilia  NaN  \n3           mid-range       Strofilia  NaN  \n4           mid-range       Strofilia  NaN  \n...               ...             ...  ...  \n152383        premium        Pod Różą  NaN  \n152384        premium        Pod Różą  NaN  \n152385        premium        Pod Różą  NaN  \n152386        premium        Pod Różą  NaN  \n152387        premium        Pod Różą  NaN  \n\n[152388 rows x 13 columns]",
      "text/html": "<div>\n<style scoped>\n    .dataframe tbody tr th:only-of-type {\n        vertical-align: middle;\n    }\n\n    .dataframe tbody tr th {\n        vertical-align: top;\n    }\n\n    .dataframe thead th {\n        text-align: right;\n    }\n</style>\n<table border=\"1\" class=\"dataframe\">\n  <thead>\n    <tr style=\"text-align: right;\">\n      <th></th>\n      <th>image_id</th>\n      <th>image_url</th>\n      <th>restaurant_name_x</th>\n      <th>objectID</th>\n      <th>code_fromcuisines</th>\n      <th>label_fromcuisines</th>\n      <th>slug_fromcuisines</th>\n      <th>restaurant_name_y</th>\n      <th>code_fromprice</th>\n      <th>label_fromprice</th>\n      <th>slug_fromprice</th>\n      <th>restaurant_name</th>\n      <th>0</th>\n    </tr>\n  </thead>\n  <tbody>\n    <tr>\n      <th>0</th>\n      <td>2088757</td>\n      <td>https://axwwgrkdco.cloudimg.io/v7/__gmpics__/8...</td>\n      <td>Strofilia</td>\n      <td>78848</td>\n      <td>TYC_1056</td>\n      <td>Greek</td>\n      <td>greek</td>\n      <td>Strofilia</td>\n      <td>CAT_P02</td>\n      <td>A moderate spend</td>\n      <td>mid-range</td>\n      <td>Strofilia</td>\n      <td>NaN</td>\n    </tr>\n    <tr>\n      <th>1</th>\n      <td>2182000</td>\n      <td>https://axwwgrkdco.cloudimg.io/v7/__gmpics__/7...</td>\n      <td>Strofilia</td>\n      <td>78848</td>\n      <td>TYC_1056</td>\n      <td>Greek</td>\n      <td>greek</td>\n      <td>Strofilia</td>\n      <td>CAT_P02</td>\n      <td>A moderate spend</td>\n      <td>mid-range</td>\n      <td>Strofilia</td>\n      <td>NaN</td>\n    </tr>\n    <tr>\n      <th>2</th>\n      <td>4151606</td>\n      <td>https://axwwgrkdco.cloudimg.io/v7/__gmpics__/b...</td>\n      <td>Strofilia</td>\n      <td>78848</td>\n      <td>TYC_1056</td>\n      <td>Greek</td>\n      <td>greek</td>\n      <td>Strofilia</td>\n      <td>CAT_P02</td>\n      <td>A moderate spend</td>\n      <td>mid-range</td>\n      <td>Strofilia</td>\n      <td>NaN</td>\n    </tr>\n    <tr>\n      <th>3</th>\n      <td>4151588</td>\n      <td>https://axwwgrkdco.cloudimg.io/v7/__gmpics__/9...</td>\n      <td>Strofilia</td>\n      <td>78848</td>\n      <td>TYC_1056</td>\n      <td>Greek</td>\n      <td>greek</td>\n      <td>Strofilia</td>\n      <td>CAT_P02</td>\n      <td>A moderate spend</td>\n      <td>mid-range</td>\n      <td>Strofilia</td>\n      <td>NaN</td>\n    </tr>\n    <tr>\n      <th>4</th>\n      <td>2224983</td>\n      <td>https://axwwgrkdco.cloudimg.io/v7/__gmpics__/2...</td>\n      <td>Strofilia</td>\n      <td>78848</td>\n      <td>TYC_1056</td>\n      <td>Greek</td>\n      <td>greek</td>\n      <td>Strofilia</td>\n      <td>CAT_P02</td>\n      <td>A moderate spend</td>\n      <td>mid-range</td>\n      <td>Strofilia</td>\n      <td>NaN</td>\n    </tr>\n    <tr>\n      <th>...</th>\n      <td>...</td>\n      <td>...</td>\n      <td>...</td>\n      <td>...</td>\n      <td>...</td>\n      <td>...</td>\n      <td>...</td>\n      <td>...</td>\n      <td>...</td>\n      <td>...</td>\n      <td>...</td>\n      <td>...</td>\n      <td>...</td>\n    </tr>\n    <tr>\n      <th>152383</th>\n      <td>1928176</td>\n      <td>https://axwwgrkdco.cloudimg.io/v7/__gmpics__/1...</td>\n      <td>Pod Różą</td>\n      <td>34507</td>\n      <td>TYC_1085</td>\n      <td>Modern Cuisine</td>\n      <td>modern-cuisine</td>\n      <td>Pod Różą</td>\n      <td>CAT_P03</td>\n      <td>Special occasion</td>\n      <td>premium</td>\n      <td>Pod Różą</td>\n      <td>NaN</td>\n    </tr>\n    <tr>\n      <th>152384</th>\n      <td>5611477</td>\n      <td>https://axwwgrkdco.cloudimg.io/v7/__gmpics__/0...</td>\n      <td>Pod Różą</td>\n      <td>34507</td>\n      <td>TYC_1085</td>\n      <td>Modern Cuisine</td>\n      <td>modern-cuisine</td>\n      <td>Pod Różą</td>\n      <td>CAT_P03</td>\n      <td>Special occasion</td>\n      <td>premium</td>\n      <td>Pod Różą</td>\n      <td>NaN</td>\n    </tr>\n    <tr>\n      <th>152385</th>\n      <td>1928253</td>\n      <td>https://axwwgrkdco.cloudimg.io/v7/__gmpics__/e...</td>\n      <td>Pod Różą</td>\n      <td>34507</td>\n      <td>TYC_1085</td>\n      <td>Modern Cuisine</td>\n      <td>modern-cuisine</td>\n      <td>Pod Różą</td>\n      <td>CAT_P03</td>\n      <td>Special occasion</td>\n      <td>premium</td>\n      <td>Pod Różą</td>\n      <td>NaN</td>\n    </tr>\n    <tr>\n      <th>152386</th>\n      <td>5611399</td>\n      <td>https://axwwgrkdco.cloudimg.io/v7/__gmpics__/4...</td>\n      <td>Pod Różą</td>\n      <td>34507</td>\n      <td>TYC_1085</td>\n      <td>Modern Cuisine</td>\n      <td>modern-cuisine</td>\n      <td>Pod Różą</td>\n      <td>CAT_P03</td>\n      <td>Special occasion</td>\n      <td>premium</td>\n      <td>Pod Różą</td>\n      <td>NaN</td>\n    </tr>\n    <tr>\n      <th>152387</th>\n      <td>1928177</td>\n      <td>https://axwwgrkdco.cloudimg.io/v7/__gmpics__/a...</td>\n      <td>Pod Różą</td>\n      <td>34507</td>\n      <td>TYC_1085</td>\n      <td>Modern Cuisine</td>\n      <td>modern-cuisine</td>\n      <td>Pod Różą</td>\n      <td>CAT_P03</td>\n      <td>Special occasion</td>\n      <td>premium</td>\n      <td>Pod Różą</td>\n      <td>NaN</td>\n    </tr>\n  </tbody>\n</table>\n<p>152388 rows × 13 columns</p>\n</div>"
     },
     "execution_count": 17,
     "metadata": {},
     "output_type": "execute_result"
    }
   ],
   "source": [
    "images_cuisines_price = images_cuisines.merge(expensiveness,how='left',on='objectID',suffixes=('_fromcuisines','_fromprice'))\n",
    "images_cuisines_price"
   ],
   "metadata": {
    "collapsed": false
   }
  },
  {
   "cell_type": "code",
   "execution_count": 42,
   "outputs": [
    {
     "ename": "KeyError",
     "evalue": "\"['0'] not found in axis\"",
     "output_type": "error",
     "traceback": [
      "\u001B[1;31m---------------------------------------------------------------------------\u001B[0m",
      "\u001B[1;31mKeyError\u001B[0m                                  Traceback (most recent call last)",
      "Cell \u001B[1;32mIn[42], line 1\u001B[0m\n\u001B[1;32m----> 1\u001B[0m \u001B[43mimages_cuisines_price\u001B[49m\u001B[38;5;241;43m.\u001B[39;49m\u001B[43mdrop\u001B[49m\u001B[43m(\u001B[49m\u001B[43m[\u001B[49m\u001B[38;5;124;43m'\u001B[39;49m\u001B[38;5;124;43m0\u001B[39;49m\u001B[38;5;124;43m'\u001B[39;49m\u001B[43m]\u001B[49m\u001B[43m)\u001B[49m\n",
      "File \u001B[1;32mD:\\KULprojectdata\\venv\\lib\\site-packages\\pandas\\util\\_decorators.py:331\u001B[0m, in \u001B[0;36mdeprecate_nonkeyword_arguments.<locals>.decorate.<locals>.wrapper\u001B[1;34m(*args, **kwargs)\u001B[0m\n\u001B[0;32m    325\u001B[0m \u001B[38;5;28;01mif\u001B[39;00m \u001B[38;5;28mlen\u001B[39m(args) \u001B[38;5;241m>\u001B[39m num_allow_args:\n\u001B[0;32m    326\u001B[0m     warnings\u001B[38;5;241m.\u001B[39mwarn(\n\u001B[0;32m    327\u001B[0m         msg\u001B[38;5;241m.\u001B[39mformat(arguments\u001B[38;5;241m=\u001B[39m_format_argument_list(allow_args)),\n\u001B[0;32m    328\u001B[0m         \u001B[38;5;167;01mFutureWarning\u001B[39;00m,\n\u001B[0;32m    329\u001B[0m         stacklevel\u001B[38;5;241m=\u001B[39mfind_stack_level(),\n\u001B[0;32m    330\u001B[0m     )\n\u001B[1;32m--> 331\u001B[0m \u001B[38;5;28;01mreturn\u001B[39;00m func(\u001B[38;5;241m*\u001B[39margs, \u001B[38;5;241m*\u001B[39m\u001B[38;5;241m*\u001B[39mkwargs)\n",
      "File \u001B[1;32mD:\\KULprojectdata\\venv\\lib\\site-packages\\pandas\\core\\frame.py:5388\u001B[0m, in \u001B[0;36mDataFrame.drop\u001B[1;34m(self, labels, axis, index, columns, level, inplace, errors)\u001B[0m\n\u001B[0;32m   5240\u001B[0m \u001B[38;5;129m@deprecate_nonkeyword_arguments\u001B[39m(version\u001B[38;5;241m=\u001B[39m\u001B[38;5;28;01mNone\u001B[39;00m, allowed_args\u001B[38;5;241m=\u001B[39m[\u001B[38;5;124m\"\u001B[39m\u001B[38;5;124mself\u001B[39m\u001B[38;5;124m\"\u001B[39m, \u001B[38;5;124m\"\u001B[39m\u001B[38;5;124mlabels\u001B[39m\u001B[38;5;124m\"\u001B[39m])\n\u001B[0;32m   5241\u001B[0m \u001B[38;5;28;01mdef\u001B[39;00m \u001B[38;5;21mdrop\u001B[39m(  \u001B[38;5;66;03m# type: ignore[override]\u001B[39;00m\n\u001B[0;32m   5242\u001B[0m     \u001B[38;5;28mself\u001B[39m,\n\u001B[1;32m   (...)\u001B[0m\n\u001B[0;32m   5249\u001B[0m     errors: IgnoreRaise \u001B[38;5;241m=\u001B[39m \u001B[38;5;124m\"\u001B[39m\u001B[38;5;124mraise\u001B[39m\u001B[38;5;124m\"\u001B[39m,\n\u001B[0;32m   5250\u001B[0m ) \u001B[38;5;241m-\u001B[39m\u001B[38;5;241m>\u001B[39m DataFrame \u001B[38;5;241m|\u001B[39m \u001B[38;5;28;01mNone\u001B[39;00m:\n\u001B[0;32m   5251\u001B[0m     \u001B[38;5;124;03m\"\"\"\u001B[39;00m\n\u001B[0;32m   5252\u001B[0m \u001B[38;5;124;03m    Drop specified labels from rows or columns.\u001B[39;00m\n\u001B[0;32m   5253\u001B[0m \n\u001B[1;32m   (...)\u001B[0m\n\u001B[0;32m   5386\u001B[0m \u001B[38;5;124;03m            weight  1.0     0.8\u001B[39;00m\n\u001B[0;32m   5387\u001B[0m \u001B[38;5;124;03m    \"\"\"\u001B[39;00m\n\u001B[1;32m-> 5388\u001B[0m     \u001B[38;5;28;01mreturn\u001B[39;00m \u001B[38;5;28;43msuper\u001B[39;49m\u001B[43m(\u001B[49m\u001B[43m)\u001B[49m\u001B[38;5;241;43m.\u001B[39;49m\u001B[43mdrop\u001B[49m\u001B[43m(\u001B[49m\n\u001B[0;32m   5389\u001B[0m \u001B[43m        \u001B[49m\u001B[43mlabels\u001B[49m\u001B[38;5;241;43m=\u001B[39;49m\u001B[43mlabels\u001B[49m\u001B[43m,\u001B[49m\n\u001B[0;32m   5390\u001B[0m \u001B[43m        \u001B[49m\u001B[43maxis\u001B[49m\u001B[38;5;241;43m=\u001B[39;49m\u001B[43maxis\u001B[49m\u001B[43m,\u001B[49m\n\u001B[0;32m   5391\u001B[0m \u001B[43m        \u001B[49m\u001B[43mindex\u001B[49m\u001B[38;5;241;43m=\u001B[39;49m\u001B[43mindex\u001B[49m\u001B[43m,\u001B[49m\n\u001B[0;32m   5392\u001B[0m \u001B[43m        \u001B[49m\u001B[43mcolumns\u001B[49m\u001B[38;5;241;43m=\u001B[39;49m\u001B[43mcolumns\u001B[49m\u001B[43m,\u001B[49m\n\u001B[0;32m   5393\u001B[0m \u001B[43m        \u001B[49m\u001B[43mlevel\u001B[49m\u001B[38;5;241;43m=\u001B[39;49m\u001B[43mlevel\u001B[49m\u001B[43m,\u001B[49m\n\u001B[0;32m   5394\u001B[0m \u001B[43m        \u001B[49m\u001B[43minplace\u001B[49m\u001B[38;5;241;43m=\u001B[39;49m\u001B[43minplace\u001B[49m\u001B[43m,\u001B[49m\n\u001B[0;32m   5395\u001B[0m \u001B[43m        \u001B[49m\u001B[43merrors\u001B[49m\u001B[38;5;241;43m=\u001B[39;49m\u001B[43merrors\u001B[49m\u001B[43m,\u001B[49m\n\u001B[0;32m   5396\u001B[0m \u001B[43m    \u001B[49m\u001B[43m)\u001B[49m\n",
      "File \u001B[1;32mD:\\KULprojectdata\\venv\\lib\\site-packages\\pandas\\util\\_decorators.py:331\u001B[0m, in \u001B[0;36mdeprecate_nonkeyword_arguments.<locals>.decorate.<locals>.wrapper\u001B[1;34m(*args, **kwargs)\u001B[0m\n\u001B[0;32m    325\u001B[0m \u001B[38;5;28;01mif\u001B[39;00m \u001B[38;5;28mlen\u001B[39m(args) \u001B[38;5;241m>\u001B[39m num_allow_args:\n\u001B[0;32m    326\u001B[0m     warnings\u001B[38;5;241m.\u001B[39mwarn(\n\u001B[0;32m    327\u001B[0m         msg\u001B[38;5;241m.\u001B[39mformat(arguments\u001B[38;5;241m=\u001B[39m_format_argument_list(allow_args)),\n\u001B[0;32m    328\u001B[0m         \u001B[38;5;167;01mFutureWarning\u001B[39;00m,\n\u001B[0;32m    329\u001B[0m         stacklevel\u001B[38;5;241m=\u001B[39mfind_stack_level(),\n\u001B[0;32m    330\u001B[0m     )\n\u001B[1;32m--> 331\u001B[0m \u001B[38;5;28;01mreturn\u001B[39;00m func(\u001B[38;5;241m*\u001B[39margs, \u001B[38;5;241m*\u001B[39m\u001B[38;5;241m*\u001B[39mkwargs)\n",
      "File \u001B[1;32mD:\\KULprojectdata\\venv\\lib\\site-packages\\pandas\\core\\generic.py:4505\u001B[0m, in \u001B[0;36mNDFrame.drop\u001B[1;34m(self, labels, axis, index, columns, level, inplace, errors)\u001B[0m\n\u001B[0;32m   4503\u001B[0m \u001B[38;5;28;01mfor\u001B[39;00m axis, labels \u001B[38;5;129;01min\u001B[39;00m axes\u001B[38;5;241m.\u001B[39mitems():\n\u001B[0;32m   4504\u001B[0m     \u001B[38;5;28;01mif\u001B[39;00m labels \u001B[38;5;129;01mis\u001B[39;00m \u001B[38;5;129;01mnot\u001B[39;00m \u001B[38;5;28;01mNone\u001B[39;00m:\n\u001B[1;32m-> 4505\u001B[0m         obj \u001B[38;5;241m=\u001B[39m \u001B[43mobj\u001B[49m\u001B[38;5;241;43m.\u001B[39;49m\u001B[43m_drop_axis\u001B[49m\u001B[43m(\u001B[49m\u001B[43mlabels\u001B[49m\u001B[43m,\u001B[49m\u001B[43m \u001B[49m\u001B[43maxis\u001B[49m\u001B[43m,\u001B[49m\u001B[43m \u001B[49m\u001B[43mlevel\u001B[49m\u001B[38;5;241;43m=\u001B[39;49m\u001B[43mlevel\u001B[49m\u001B[43m,\u001B[49m\u001B[43m \u001B[49m\u001B[43merrors\u001B[49m\u001B[38;5;241;43m=\u001B[39;49m\u001B[43merrors\u001B[49m\u001B[43m)\u001B[49m\n\u001B[0;32m   4507\u001B[0m \u001B[38;5;28;01mif\u001B[39;00m inplace:\n\u001B[0;32m   4508\u001B[0m     \u001B[38;5;28mself\u001B[39m\u001B[38;5;241m.\u001B[39m_update_inplace(obj)\n",
      "File \u001B[1;32mD:\\KULprojectdata\\venv\\lib\\site-packages\\pandas\\core\\generic.py:4546\u001B[0m, in \u001B[0;36mNDFrame._drop_axis\u001B[1;34m(self, labels, axis, level, errors, only_slice)\u001B[0m\n\u001B[0;32m   4544\u001B[0m         new_axis \u001B[38;5;241m=\u001B[39m axis\u001B[38;5;241m.\u001B[39mdrop(labels, level\u001B[38;5;241m=\u001B[39mlevel, errors\u001B[38;5;241m=\u001B[39merrors)\n\u001B[0;32m   4545\u001B[0m     \u001B[38;5;28;01melse\u001B[39;00m:\n\u001B[1;32m-> 4546\u001B[0m         new_axis \u001B[38;5;241m=\u001B[39m \u001B[43maxis\u001B[49m\u001B[38;5;241;43m.\u001B[39;49m\u001B[43mdrop\u001B[49m\u001B[43m(\u001B[49m\u001B[43mlabels\u001B[49m\u001B[43m,\u001B[49m\u001B[43m \u001B[49m\u001B[43merrors\u001B[49m\u001B[38;5;241;43m=\u001B[39;49m\u001B[43merrors\u001B[49m\u001B[43m)\u001B[49m\n\u001B[0;32m   4547\u001B[0m     indexer \u001B[38;5;241m=\u001B[39m axis\u001B[38;5;241m.\u001B[39mget_indexer(new_axis)\n\u001B[0;32m   4549\u001B[0m \u001B[38;5;66;03m# Case for non-unique axis\u001B[39;00m\n\u001B[0;32m   4550\u001B[0m \u001B[38;5;28;01melse\u001B[39;00m:\n",
      "File \u001B[1;32mD:\\KULprojectdata\\venv\\lib\\site-packages\\pandas\\core\\indexes\\base.py:6975\u001B[0m, in \u001B[0;36mIndex.drop\u001B[1;34m(self, labels, errors)\u001B[0m\n\u001B[0;32m   6973\u001B[0m \u001B[38;5;28;01mif\u001B[39;00m mask\u001B[38;5;241m.\u001B[39many():\n\u001B[0;32m   6974\u001B[0m     \u001B[38;5;28;01mif\u001B[39;00m errors \u001B[38;5;241m!=\u001B[39m \u001B[38;5;124m\"\u001B[39m\u001B[38;5;124mignore\u001B[39m\u001B[38;5;124m\"\u001B[39m:\n\u001B[1;32m-> 6975\u001B[0m         \u001B[38;5;28;01mraise\u001B[39;00m \u001B[38;5;167;01mKeyError\u001B[39;00m(\u001B[38;5;124mf\u001B[39m\u001B[38;5;124m\"\u001B[39m\u001B[38;5;132;01m{\u001B[39;00m\u001B[38;5;28mlist\u001B[39m(labels[mask])\u001B[38;5;132;01m}\u001B[39;00m\u001B[38;5;124m not found in axis\u001B[39m\u001B[38;5;124m\"\u001B[39m)\n\u001B[0;32m   6976\u001B[0m     indexer \u001B[38;5;241m=\u001B[39m indexer[\u001B[38;5;241m~\u001B[39mmask]\n\u001B[0;32m   6977\u001B[0m \u001B[38;5;28;01mreturn\u001B[39;00m \u001B[38;5;28mself\u001B[39m\u001B[38;5;241m.\u001B[39mdelete(indexer)\n",
      "\u001B[1;31mKeyError\u001B[0m: \"['0'] not found in axis\""
     ]
    }
   ],
   "source": [
    "images_cuisines_price.drop(['0'])\n",
    "\n"
   ],
   "metadata": {
    "collapsed": false
   }
  },
  {
   "cell_type": "code",
   "execution_count": 18,
   "outputs": [],
   "source": [
    "images_cuisines_price.to_csv('D:/big_data_final_projedt_2023/assignment2/images_cuisines_price.csv',index=False)\n"
   ],
   "metadata": {
    "collapsed": false
   }
  },
  {
   "cell_type": "code",
   "execution_count": 19,
   "outputs": [
    {
     "name": "stdout",
     "output_type": "stream",
     "text": [
      "tensor([[0.2984, 0.9070, 0.3079],\n",
      "        [0.6781, 0.0343, 0.9463],\n",
      "        [0.0495, 0.0012, 0.9733],\n",
      "        [0.6485, 0.9100, 0.3265],\n",
      "        [0.5566, 0.9161, 0.3754]])\n"
     ]
    }
   ],
   "source": [
    "import torch\n",
    "x = torch.rand(5, 3)\n",
    "print(x)"
   ],
   "metadata": {
    "collapsed": false
   }
  },
  {
   "cell_type": "code",
   "execution_count": null,
   "outputs": [],
   "source": [],
   "metadata": {
    "collapsed": false
   }
  }
 ],
 "metadata": {
  "kernelspec": {
   "display_name": "Python 3",
   "language": "python",
   "name": "python3"
  },
  "language_info": {
   "codemirror_mode": {
    "name": "ipython",
    "version": 2
   },
   "file_extension": ".py",
   "mimetype": "text/x-python",
   "name": "python",
   "nbconvert_exporter": "python",
   "pygments_lexer": "ipython2",
   "version": "2.7.6"
  }
 },
 "nbformat": 4,
 "nbformat_minor": 0
}
